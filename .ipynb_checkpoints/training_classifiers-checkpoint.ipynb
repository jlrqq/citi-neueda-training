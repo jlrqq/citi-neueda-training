{
 "cells": [
  {
   "cell_type": "markdown",
   "metadata": {},
   "source": [
    "<h3> Objective: Build a model that can accurately predict whether a loan-applicant will default based on a set of features (Loan Amount, Debt-to-Income Ratio, Loan Type, Rate of Interest, Income, Credit Worthiness, Credit Score). </h3>"
   ]
  },
  {
   "cell_type": "code",
   "execution_count": 1,
   "metadata": {},
   "outputs": [
    {
     "name": "stdout",
     "output_type": "stream",
     "text": [
      "Requirement already satisfied: xgboost in /opt/anaconda3/lib/python3.8/site-packages (1.7.5)\n",
      "Requirement already satisfied: scipy in /opt/anaconda3/lib/python3.8/site-packages (from xgboost) (1.10.0)\n",
      "Requirement already satisfied: numpy in /opt/anaconda3/lib/python3.8/site-packages (from xgboost) (1.23.1)\n",
      "\n",
      "\u001b[1m[\u001b[0m\u001b[34;49mnotice\u001b[0m\u001b[1;39;49m]\u001b[0m\u001b[39;49m A new release of pip is available: \u001b[0m\u001b[31;49m23.0.1\u001b[0m\u001b[39;49m -> \u001b[0m\u001b[32;49m23.1.2\u001b[0m\n",
      "\u001b[1m[\u001b[0m\u001b[34;49mnotice\u001b[0m\u001b[1;39;49m]\u001b[0m\u001b[39;49m To update, run: \u001b[0m\u001b[32;49mpip3.8 install --upgrade pip\u001b[0m\n"
     ]
    }
   ],
   "source": [
    "import sys\n",
    "!{sys.executable} -m pip install xgboost"
   ]
  },
  {
   "cell_type": "code",
   "execution_count": 2,
   "metadata": {},
   "outputs": [],
   "source": [
    "import pandas as pd\n",
    "from sklearn.model_selection import train_test_split\n",
    "from sklearn.ensemble import RandomForestClassifier\n",
    "from sklearn.metrics import accuracy_score\n",
    "from sklearn.metrics import classification_report\n",
    "from sklearn.metrics import confusion_matrix\n",
    "from xgboost import XGBClassifier\n",
    "from sklearn.model_selection import cross_val_score, KFold\n",
    "from sklearn.naive_bayes import GaussianNB, MultinomialNB, BernoulliNB\n",
    "from sklearn.utils import resample"
   ]
  },
  {
   "cell_type": "code",
   "execution_count": 3,
   "metadata": {},
   "outputs": [
    {
     "data": {
      "text/html": [
       "<div>\n",
       "<style scoped>\n",
       "    .dataframe tbody tr th:only-of-type {\n",
       "        vertical-align: middle;\n",
       "    }\n",
       "\n",
       "    .dataframe tbody tr th {\n",
       "        vertical-align: top;\n",
       "    }\n",
       "\n",
       "    .dataframe thead th {\n",
       "        text-align: right;\n",
       "    }\n",
       "</style>\n",
       "<table border=\"1\" class=\"dataframe\">\n",
       "  <thead>\n",
       "    <tr style=\"text-align: right;\">\n",
       "      <th></th>\n",
       "      <th>Unnamed: 0</th>\n",
       "      <th>id</th>\n",
       "      <th>year</th>\n",
       "      <th>loan_amount</th>\n",
       "      <th>rate_of_interest</th>\n",
       "      <th>interest_rate_spread</th>\n",
       "      <th>upfront_charges</th>\n",
       "      <th>term</th>\n",
       "      <th>property_value</th>\n",
       "      <th>income</th>\n",
       "      <th>...</th>\n",
       "      <th>construction_type</th>\n",
       "      <th>occupancy_type</th>\n",
       "      <th>secured_by</th>\n",
       "      <th>total_units</th>\n",
       "      <th>credit_type</th>\n",
       "      <th>co-applicant_credit_type</th>\n",
       "      <th>age</th>\n",
       "      <th>submission_of_application</th>\n",
       "      <th>region</th>\n",
       "      <th>security_type</th>\n",
       "    </tr>\n",
       "  </thead>\n",
       "  <tbody>\n",
       "    <tr>\n",
       "      <th>0</th>\n",
       "      <td>0</td>\n",
       "      <td>24890.0</td>\n",
       "      <td>2019.0</td>\n",
       "      <td>116500.0</td>\n",
       "      <td>4.201667</td>\n",
       "      <td>0.972767</td>\n",
       "      <td>3405.226667</td>\n",
       "      <td>360.0</td>\n",
       "      <td>118000.000000</td>\n",
       "      <td>1740.0</td>\n",
       "      <td>...</td>\n",
       "      <td>sb</td>\n",
       "      <td>pr</td>\n",
       "      <td>home</td>\n",
       "      <td>1U</td>\n",
       "      <td>EXP</td>\n",
       "      <td>CIB</td>\n",
       "      <td>25-34</td>\n",
       "      <td>to_inst</td>\n",
       "      <td>south</td>\n",
       "      <td>direct</td>\n",
       "    </tr>\n",
       "    <tr>\n",
       "      <th>1</th>\n",
       "      <td>1</td>\n",
       "      <td>24891.0</td>\n",
       "      <td>2019.0</td>\n",
       "      <td>206500.0</td>\n",
       "      <td>3.996667</td>\n",
       "      <td>0.677800</td>\n",
       "      <td>558.893333</td>\n",
       "      <td>360.0</td>\n",
       "      <td>281333.333333</td>\n",
       "      <td>4980.0</td>\n",
       "      <td>...</td>\n",
       "      <td>sb</td>\n",
       "      <td>pr</td>\n",
       "      <td>home</td>\n",
       "      <td>1U</td>\n",
       "      <td>EQUI</td>\n",
       "      <td>EXP</td>\n",
       "      <td>55-64</td>\n",
       "      <td>to_inst</td>\n",
       "      <td>North</td>\n",
       "      <td>direct</td>\n",
       "    </tr>\n",
       "    <tr>\n",
       "      <th>2</th>\n",
       "      <td>2</td>\n",
       "      <td>24892.0</td>\n",
       "      <td>2019.0</td>\n",
       "      <td>406500.0</td>\n",
       "      <td>4.560000</td>\n",
       "      <td>0.200000</td>\n",
       "      <td>595.000000</td>\n",
       "      <td>360.0</td>\n",
       "      <td>508000.000000</td>\n",
       "      <td>9480.0</td>\n",
       "      <td>...</td>\n",
       "      <td>sb</td>\n",
       "      <td>pr</td>\n",
       "      <td>home</td>\n",
       "      <td>1U</td>\n",
       "      <td>EXP</td>\n",
       "      <td>CIB</td>\n",
       "      <td>35-44</td>\n",
       "      <td>to_inst</td>\n",
       "      <td>south</td>\n",
       "      <td>direct</td>\n",
       "    </tr>\n",
       "    <tr>\n",
       "      <th>3</th>\n",
       "      <td>3</td>\n",
       "      <td>24893.0</td>\n",
       "      <td>2019.0</td>\n",
       "      <td>456500.0</td>\n",
       "      <td>4.250000</td>\n",
       "      <td>0.681000</td>\n",
       "      <td>124.500000</td>\n",
       "      <td>360.0</td>\n",
       "      <td>658000.000000</td>\n",
       "      <td>11880.0</td>\n",
       "      <td>...</td>\n",
       "      <td>sb</td>\n",
       "      <td>pr</td>\n",
       "      <td>home</td>\n",
       "      <td>1U</td>\n",
       "      <td>EXP</td>\n",
       "      <td>CIB</td>\n",
       "      <td>45-54</td>\n",
       "      <td>not_inst</td>\n",
       "      <td>North</td>\n",
       "      <td>direct</td>\n",
       "    </tr>\n",
       "    <tr>\n",
       "      <th>4</th>\n",
       "      <td>4</td>\n",
       "      <td>24894.0</td>\n",
       "      <td>2019.0</td>\n",
       "      <td>696500.0</td>\n",
       "      <td>4.000000</td>\n",
       "      <td>0.304200</td>\n",
       "      <td>0.000000</td>\n",
       "      <td>360.0</td>\n",
       "      <td>758000.000000</td>\n",
       "      <td>10440.0</td>\n",
       "      <td>...</td>\n",
       "      <td>sb</td>\n",
       "      <td>pr</td>\n",
       "      <td>home</td>\n",
       "      <td>1U</td>\n",
       "      <td>CRIF</td>\n",
       "      <td>EXP</td>\n",
       "      <td>25-34</td>\n",
       "      <td>not_inst</td>\n",
       "      <td>North</td>\n",
       "      <td>direct</td>\n",
       "    </tr>\n",
       "  </tbody>\n",
       "</table>\n",
       "<p>5 rows × 35 columns</p>\n",
       "</div>"
      ],
      "text/plain": [
       "   Unnamed: 0       id    year  loan_amount  rate_of_interest  \\\n",
       "0           0  24890.0  2019.0     116500.0          4.201667   \n",
       "1           1  24891.0  2019.0     206500.0          3.996667   \n",
       "2           2  24892.0  2019.0     406500.0          4.560000   \n",
       "3           3  24893.0  2019.0     456500.0          4.250000   \n",
       "4           4  24894.0  2019.0     696500.0          4.000000   \n",
       "\n",
       "   interest_rate_spread  upfront_charges   term  property_value   income  ...  \\\n",
       "0              0.972767      3405.226667  360.0   118000.000000   1740.0  ...   \n",
       "1              0.677800       558.893333  360.0   281333.333333   4980.0  ...   \n",
       "2              0.200000       595.000000  360.0   508000.000000   9480.0  ...   \n",
       "3              0.681000       124.500000  360.0   658000.000000  11880.0  ...   \n",
       "4              0.304200         0.000000  360.0   758000.000000  10440.0  ...   \n",
       "\n",
       "   construction_type  occupancy_type  secured_by  total_units credit_type  \\\n",
       "0                 sb              pr        home           1U         EXP   \n",
       "1                 sb              pr        home           1U        EQUI   \n",
       "2                 sb              pr        home           1U         EXP   \n",
       "3                 sb              pr        home           1U         EXP   \n",
       "4                 sb              pr        home           1U        CRIF   \n",
       "\n",
       "  co-applicant_credit_type    age submission_of_application region  \\\n",
       "0                      CIB  25-34                   to_inst  south   \n",
       "1                      EXP  55-64                   to_inst  North   \n",
       "2                      CIB  35-44                   to_inst  south   \n",
       "3                      CIB  45-54                  not_inst  North   \n",
       "4                      EXP  25-34                  not_inst  North   \n",
       "\n",
       "  security_type  \n",
       "0        direct  \n",
       "1        direct  \n",
       "2        direct  \n",
       "3        direct  \n",
       "4        direct  \n",
       "\n",
       "[5 rows x 35 columns]"
      ]
     },
     "execution_count": 3,
     "metadata": {},
     "output_type": "execute_result"
    }
   ],
   "source": [
    "df = pd.read_csv(\"Loan_Default_Cleaned.csv\")\n",
    "df.head()"
   ]
  },
  {
   "cell_type": "code",
   "execution_count": 4,
   "metadata": {},
   "outputs": [
    {
     "name": "stdout",
     "output_type": "stream",
     "text": [
      "<class 'pandas.core.frame.DataFrame'>\n",
      "RangeIndex: 148670 entries, 0 to 148669\n",
      "Data columns (total 35 columns):\n",
      " #   Column                     Non-Null Count   Dtype  \n",
      "---  ------                     --------------   -----  \n",
      " 0   Unnamed: 0                 148670 non-null  int64  \n",
      " 1   id                         148670 non-null  float64\n",
      " 2   year                       148670 non-null  float64\n",
      " 3   loan_amount                148670 non-null  float64\n",
      " 4   rate_of_interest           148670 non-null  float64\n",
      " 5   interest_rate_spread       148670 non-null  float64\n",
      " 6   upfront_charges            148670 non-null  float64\n",
      " 7   term                       148670 non-null  float64\n",
      " 8   property_value             148670 non-null  float64\n",
      " 9   income                     148670 non-null  float64\n",
      " 10  credit_score               148670 non-null  float64\n",
      " 11  ltv                        148670 non-null  float64\n",
      " 12  status                     148670 non-null  float64\n",
      " 13  dtir1                      148670 non-null  float64\n",
      " 14  loan_limit                 148670 non-null  object \n",
      " 15  gender                     148670 non-null  object \n",
      " 16  approv_in_adv              148670 non-null  object \n",
      " 17  loan_type                  148670 non-null  object \n",
      " 18  loan_purpose               148670 non-null  object \n",
      " 19  credit_worthiness          148670 non-null  object \n",
      " 20  open_credit                148670 non-null  object \n",
      " 21  business_or_commercial     148670 non-null  object \n",
      " 22  neg_ammortization          148670 non-null  object \n",
      " 23  interest_only              148670 non-null  object \n",
      " 24  lump_sum_payment           148670 non-null  object \n",
      " 25  construction_type          148670 non-null  object \n",
      " 26  occupancy_type             148670 non-null  object \n",
      " 27  secured_by                 148670 non-null  object \n",
      " 28  total_units                148670 non-null  object \n",
      " 29  credit_type                148670 non-null  object \n",
      " 30  co-applicant_credit_type   148670 non-null  object \n",
      " 31  age                        148670 non-null  object \n",
      " 32  submission_of_application  148670 non-null  object \n",
      " 33  region                     148670 non-null  object \n",
      " 34  security_type              148670 non-null  object \n",
      "dtypes: float64(13), int64(1), object(21)\n",
      "memory usage: 39.7+ MB\n"
     ]
    }
   ],
   "source": [
    "df.info()"
   ]
  },
  {
   "cell_type": "markdown",
   "metadata": {},
   "source": [
    "Extract only columns identified in the set of features and convert all data to numerical for use in the machine learning models"
   ]
  },
  {
   "cell_type": "code",
   "execution_count": 5,
   "metadata": {},
   "outputs": [],
   "source": [
    "df_features = df[['loan_amount', 'dtir1', 'loan_type', 'rate_of_interest', 'income', 'credit_worthiness', 'credit_score', 'status']]"
   ]
  },
  {
   "cell_type": "code",
   "execution_count": 6,
   "metadata": {},
   "outputs": [],
   "source": [
    "df_features = pd.get_dummies(df_features, columns=['loan_type', 'credit_worthiness'], drop_first=True)"
   ]
  },
  {
   "cell_type": "code",
   "execution_count": 7,
   "metadata": {},
   "outputs": [
    {
     "data": {
      "text/html": [
       "<div>\n",
       "<style scoped>\n",
       "    .dataframe tbody tr th:only-of-type {\n",
       "        vertical-align: middle;\n",
       "    }\n",
       "\n",
       "    .dataframe tbody tr th {\n",
       "        vertical-align: top;\n",
       "    }\n",
       "\n",
       "    .dataframe thead th {\n",
       "        text-align: right;\n",
       "    }\n",
       "</style>\n",
       "<table border=\"1\" class=\"dataframe\">\n",
       "  <thead>\n",
       "    <tr style=\"text-align: right;\">\n",
       "      <th></th>\n",
       "      <th>loan_amount</th>\n",
       "      <th>dtir1</th>\n",
       "      <th>rate_of_interest</th>\n",
       "      <th>income</th>\n",
       "      <th>credit_score</th>\n",
       "      <th>status</th>\n",
       "      <th>loan_type_type2</th>\n",
       "      <th>loan_type_type3</th>\n",
       "      <th>credit_worthiness_l2</th>\n",
       "    </tr>\n",
       "  </thead>\n",
       "  <tbody>\n",
       "    <tr>\n",
       "      <th>0</th>\n",
       "      <td>116500.0</td>\n",
       "      <td>45.000000</td>\n",
       "      <td>4.201667</td>\n",
       "      <td>1740.0</td>\n",
       "      <td>758.0</td>\n",
       "      <td>1.0</td>\n",
       "      <td>0</td>\n",
       "      <td>0</td>\n",
       "      <td>0</td>\n",
       "    </tr>\n",
       "    <tr>\n",
       "      <th>1</th>\n",
       "      <td>206500.0</td>\n",
       "      <td>36.333333</td>\n",
       "      <td>3.996667</td>\n",
       "      <td>4980.0</td>\n",
       "      <td>552.0</td>\n",
       "      <td>1.0</td>\n",
       "      <td>1</td>\n",
       "      <td>0</td>\n",
       "      <td>0</td>\n",
       "    </tr>\n",
       "    <tr>\n",
       "      <th>2</th>\n",
       "      <td>406500.0</td>\n",
       "      <td>46.000000</td>\n",
       "      <td>4.560000</td>\n",
       "      <td>9480.0</td>\n",
       "      <td>834.0</td>\n",
       "      <td>0.0</td>\n",
       "      <td>0</td>\n",
       "      <td>0</td>\n",
       "      <td>0</td>\n",
       "    </tr>\n",
       "    <tr>\n",
       "      <th>3</th>\n",
       "      <td>456500.0</td>\n",
       "      <td>42.000000</td>\n",
       "      <td>4.250000</td>\n",
       "      <td>11880.0</td>\n",
       "      <td>587.0</td>\n",
       "      <td>0.0</td>\n",
       "      <td>0</td>\n",
       "      <td>0</td>\n",
       "      <td>0</td>\n",
       "    </tr>\n",
       "    <tr>\n",
       "      <th>4</th>\n",
       "      <td>696500.0</td>\n",
       "      <td>39.000000</td>\n",
       "      <td>4.000000</td>\n",
       "      <td>10440.0</td>\n",
       "      <td>602.0</td>\n",
       "      <td>0.0</td>\n",
       "      <td>0</td>\n",
       "      <td>0</td>\n",
       "      <td>0</td>\n",
       "    </tr>\n",
       "  </tbody>\n",
       "</table>\n",
       "</div>"
      ],
      "text/plain": [
       "   loan_amount      dtir1  rate_of_interest   income  credit_score  status  \\\n",
       "0     116500.0  45.000000          4.201667   1740.0         758.0     1.0   \n",
       "1     206500.0  36.333333          3.996667   4980.0         552.0     1.0   \n",
       "2     406500.0  46.000000          4.560000   9480.0         834.0     0.0   \n",
       "3     456500.0  42.000000          4.250000  11880.0         587.0     0.0   \n",
       "4     696500.0  39.000000          4.000000  10440.0         602.0     0.0   \n",
       "\n",
       "   loan_type_type2  loan_type_type3  credit_worthiness_l2  \n",
       "0                0                0                     0  \n",
       "1                1                0                     0  \n",
       "2                0                0                     0  \n",
       "3                0                0                     0  \n",
       "4                0                0                     0  "
      ]
     },
     "execution_count": 7,
     "metadata": {},
     "output_type": "execute_result"
    }
   ],
   "source": [
    "df_features.head()"
   ]
  },
  {
   "cell_type": "code",
   "execution_count": 8,
   "metadata": {},
   "outputs": [
    {
     "name": "stdout",
     "output_type": "stream",
     "text": [
      "<class 'pandas.core.frame.DataFrame'>\n",
      "RangeIndex: 148670 entries, 0 to 148669\n",
      "Data columns (total 9 columns):\n",
      " #   Column                Non-Null Count   Dtype  \n",
      "---  ------                --------------   -----  \n",
      " 0   loan_amount           148670 non-null  float64\n",
      " 1   dtir1                 148670 non-null  float64\n",
      " 2   rate_of_interest      148670 non-null  float64\n",
      " 3   income                148670 non-null  float64\n",
      " 4   credit_score          148670 non-null  float64\n",
      " 5   status                148670 non-null  float64\n",
      " 6   loan_type_type2       148670 non-null  uint8  \n",
      " 7   loan_type_type3       148670 non-null  uint8  \n",
      " 8   credit_worthiness_l2  148670 non-null  uint8  \n",
      "dtypes: float64(6), uint8(3)\n",
      "memory usage: 7.2 MB\n"
     ]
    }
   ],
   "source": [
    "df_features.info()"
   ]
  },
  {
   "cell_type": "markdown",
   "metadata": {},
   "source": [
    "We are first going to resample the status data to ensure an equal amount of data for both categories."
   ]
  },
  {
   "cell_type": "code",
   "execution_count": 9,
   "metadata": {},
   "outputs": [
    {
     "data": {
      "text/plain": [
       "0.0    112031\n",
       "1.0     36639\n",
       "Name: status, dtype: int64"
      ]
     },
     "execution_count": 9,
     "metadata": {},
     "output_type": "execute_result"
    }
   ],
   "source": [
    "df_features['status'].value_counts()"
   ]
  },
  {
   "cell_type": "code",
   "execution_count": 10,
   "metadata": {},
   "outputs": [],
   "source": [
    "# Separate the data into two DataFrames based on categories 0 and 1\n",
    "df_features_0 = df_features[df_features['status'] == 0 ]\n",
    "df_features_1 = df_features[df_features['status'] == 1 ]"
   ]
  },
  {
   "cell_type": "code",
   "execution_count": 11,
   "metadata": {},
   "outputs": [],
   "source": [
    "# Determine the desired number of rows for each category\n",
    "desired_rows = 36000"
   ]
  },
  {
   "cell_type": "code",
   "execution_count": 12,
   "metadata": {},
   "outputs": [],
   "source": [
    "# Resample the larger category to match the desired number of rows\n",
    "df_resampled_0 = resample(df_features_0, n_samples=desired_rows, replace=False, random_state=42)"
   ]
  },
  {
   "cell_type": "code",
   "execution_count": 13,
   "metadata": {},
   "outputs": [],
   "source": [
    "# Concatenate the resampled DataFrame with the smaller category DataFrame\n",
    "df_balanced = pd.concat([df_resampled_0, df_features_1])"
   ]
  },
  {
   "cell_type": "code",
   "execution_count": 14,
   "metadata": {},
   "outputs": [
    {
     "data": {
      "text/html": [
       "<div>\n",
       "<style scoped>\n",
       "    .dataframe tbody tr th:only-of-type {\n",
       "        vertical-align: middle;\n",
       "    }\n",
       "\n",
       "    .dataframe tbody tr th {\n",
       "        vertical-align: top;\n",
       "    }\n",
       "\n",
       "    .dataframe thead th {\n",
       "        text-align: right;\n",
       "    }\n",
       "</style>\n",
       "<table border=\"1\" class=\"dataframe\">\n",
       "  <thead>\n",
       "    <tr style=\"text-align: right;\">\n",
       "      <th></th>\n",
       "      <th>loan_amount</th>\n",
       "      <th>dtir1</th>\n",
       "      <th>rate_of_interest</th>\n",
       "      <th>income</th>\n",
       "      <th>credit_score</th>\n",
       "      <th>status</th>\n",
       "      <th>loan_type_type2</th>\n",
       "      <th>loan_type_type3</th>\n",
       "      <th>credit_worthiness_l2</th>\n",
       "    </tr>\n",
       "  </thead>\n",
       "  <tbody>\n",
       "    <tr>\n",
       "      <th>130220</th>\n",
       "      <td>176500.0</td>\n",
       "      <td>26.0</td>\n",
       "      <td>4.375</td>\n",
       "      <td>4500.0</td>\n",
       "      <td>520.0</td>\n",
       "      <td>0.0</td>\n",
       "      <td>0</td>\n",
       "      <td>0</td>\n",
       "      <td>0</td>\n",
       "    </tr>\n",
       "    <tr>\n",
       "      <th>52597</th>\n",
       "      <td>476500.0</td>\n",
       "      <td>31.0</td>\n",
       "      <td>3.990</td>\n",
       "      <td>7560.0</td>\n",
       "      <td>771.0</td>\n",
       "      <td>0.0</td>\n",
       "      <td>0</td>\n",
       "      <td>0</td>\n",
       "      <td>0</td>\n",
       "    </tr>\n",
       "    <tr>\n",
       "      <th>84169</th>\n",
       "      <td>726500.0</td>\n",
       "      <td>44.0</td>\n",
       "      <td>3.875</td>\n",
       "      <td>10620.0</td>\n",
       "      <td>750.0</td>\n",
       "      <td>0.0</td>\n",
       "      <td>0</td>\n",
       "      <td>0</td>\n",
       "      <td>0</td>\n",
       "    </tr>\n",
       "    <tr>\n",
       "      <th>144846</th>\n",
       "      <td>726500.0</td>\n",
       "      <td>44.0</td>\n",
       "      <td>4.000</td>\n",
       "      <td>10560.0</td>\n",
       "      <td>613.0</td>\n",
       "      <td>0.0</td>\n",
       "      <td>0</td>\n",
       "      <td>0</td>\n",
       "      <td>0</td>\n",
       "    </tr>\n",
       "    <tr>\n",
       "      <th>67253</th>\n",
       "      <td>96500.0</td>\n",
       "      <td>38.0</td>\n",
       "      <td>5.500</td>\n",
       "      <td>5700.0</td>\n",
       "      <td>553.0</td>\n",
       "      <td>0.0</td>\n",
       "      <td>0</td>\n",
       "      <td>0</td>\n",
       "      <td>0</td>\n",
       "    </tr>\n",
       "  </tbody>\n",
       "</table>\n",
       "</div>"
      ],
      "text/plain": [
       "        loan_amount  dtir1  rate_of_interest   income  credit_score  status  \\\n",
       "130220     176500.0   26.0             4.375   4500.0         520.0     0.0   \n",
       "52597      476500.0   31.0             3.990   7560.0         771.0     0.0   \n",
       "84169      726500.0   44.0             3.875  10620.0         750.0     0.0   \n",
       "144846     726500.0   44.0             4.000  10560.0         613.0     0.0   \n",
       "67253       96500.0   38.0             5.500   5700.0         553.0     0.0   \n",
       "\n",
       "        loan_type_type2  loan_type_type3  credit_worthiness_l2  \n",
       "130220                0                0                     0  \n",
       "52597                 0                0                     0  \n",
       "84169                 0                0                     0  \n",
       "144846                0                0                     0  \n",
       "67253                 0                0                     0  "
      ]
     },
     "execution_count": 14,
     "metadata": {},
     "output_type": "execute_result"
    }
   ],
   "source": [
    "df_balanced.head()"
   ]
  },
  {
   "cell_type": "code",
   "execution_count": 15,
   "metadata": {},
   "outputs": [
    {
     "data": {
      "text/plain": [
       "1.0    36639\n",
       "0.0    36000\n",
       "Name: status, dtype: int64"
      ]
     },
     "execution_count": 15,
     "metadata": {},
     "output_type": "execute_result"
    }
   ],
   "source": [
    "df_balanced['status'].value_counts()"
   ]
  },
  {
   "cell_type": "markdown",
   "metadata": {},
   "source": [
    "We will now split our data into training set and testing set. To train our model, we use X_train as the features and y_train as the ground truth. Similarly, when testing, we will use X_test as the features and y_test to validate the predicted labels. We will also use 70% of data for training the model, and 30% for testing so that the algorithm has sufficient data to effectively learn. With random_state=42, we can obtain the same train and test sets across different executions, thus improving the model's performance score."
   ]
  },
  {
   "cell_type": "code",
   "execution_count": 16,
   "metadata": {},
   "outputs": [],
   "source": [
    "# ====================================================================\n",
    "# Splitting Data\n",
    "# ====================================================================\n",
    "\n",
    "# train_test_split\n",
    "train_set, test_set = train_test_split(df_balanced, test_size=0.3, random_state=42)\n",
    "\n",
    "y_train = train_set['status']\n",
    "X_train = train_set.drop(columns=['status'])\n",
    "y_test = test_set['status']\n",
    "X_test = test_set.drop(columns=['status'])"
   ]
  },
  {
   "cell_type": "markdown",
   "metadata": {},
   "source": [
    "As our target is a categorical variable, we cannot perform Linear Regression model. Thus, we will attempt to use classification algorithms and execute three different classifiers and choose the best one:\n",
    "\n",
    "- <b>RandomForestClassifer:</b> is a Supervised Machine Learning Algorithm that is used widely in Classification and Regression problems. It builds decision trees on different samples and takes their majority vote for classification and average in case of regression.\n",
    "- <b>XGBoostClassifier:</b> is a scalable, distributed gradient-boosted decision tree (GBDT) machine learning library. It provides parallel tree boosting and is the leading machine learning library for regression, classification, and ranking problems.\n",
    "- <b>NaiveBayesClassifer:</b> is a Supervised Machine Learning Algorithm, which is used for classification tasks, like text classification. It is also part of a family of generative learning algorithms, meaning that it seeks to model the distribution of inputs of a given class or category."
   ]
  },
  {
   "cell_type": "code",
   "execution_count": 17,
   "metadata": {},
   "outputs": [
    {
     "name": "stdout",
     "output_type": "stream",
     "text": [
      "0.8630231277533039\n",
      "[[9433 1381]\n",
      " [1604 9374]]\n"
     ]
    }
   ],
   "source": [
    "# ====================================================================\n",
    "# Random Forest Classifier: 0.86 accuracy on test set\n",
    "# ====================================================================\n",
    "\n",
    "# Fitting Model\n",
    "rf = RandomForestClassifier()\n",
    "rf.fit(X_train, y_train)\n",
    "\n",
    "# Predict on test data\n",
    "rf_preds = rf.predict(X_test)\n",
    "\n",
    "# Test set Performance\n",
    "print(accuracy_score(y_test, rf_preds))\n",
    "print(confusion_matrix(y_test, rf_preds))"
   ]
  },
  {
   "cell_type": "code",
   "execution_count": 18,
   "metadata": {},
   "outputs": [
    {
     "name": "stdout",
     "output_type": "stream",
     "text": [
      "training accuaracy: 1.0\n",
      "testing accuaracy: 0.8630231277533039\n"
     ]
    }
   ],
   "source": [
    "print(f'training accuaracy: {rf.score(X_train,y_train)}')\n",
    "print(f'testing accuaracy: {rf.score(X_test,y_test)}')"
   ]
  },
  {
   "cell_type": "markdown",
   "metadata": {},
   "source": [
    "Next, let's try the XGBoostClassifier and evaluate if it can outperform the RandomForestClassifier."
   ]
  },
  {
   "cell_type": "code",
   "execution_count": 19,
   "metadata": {},
   "outputs": [
    {
     "name": "stdout",
     "output_type": "stream",
     "text": [
      "Mean cross-validation score: 0.93\n",
      "0.9367198972099853\n",
      "[[10648   166]\n",
      " [ 1213  9765]]\n"
     ]
    }
   ],
   "source": [
    "# ====================================================================\n",
    "# XGBoost Classifier: 0.93 accuracy on test set\n",
    "# ====================================================================\n",
    "\n",
    "# Fitting Model\n",
    "xgbc = XGBClassifier()\n",
    "xgbc.fit(X_train, y_train)\n",
    "\n",
    "# Scores on train set\n",
    "scores = cross_val_score(xgbc, X_train, y_train, cv=5)\n",
    "print(\"Mean cross-validation score: %.2f\" % scores.mean())\n",
    "\n",
    "# Predict on test data\n",
    "xgb_preds = xgbc.predict(X_test)\n",
    "\n",
    "# Test set performance\n",
    "print(accuracy_score(y_test, xgb_preds))\n",
    "print(confusion_matrix(y_test, xgb_preds))"
   ]
  },
  {
   "cell_type": "code",
   "execution_count": 20,
   "metadata": {},
   "outputs": [
    {
     "name": "stdout",
     "output_type": "stream",
     "text": [
      "training accuaracy: 0.9484335359018231\n",
      "testing accuaracy: 0.9367198972099853\n"
     ]
    }
   ],
   "source": [
    "print(f'training accuaracy: {xgbc.score(X_train,y_train)}')\n",
    "print(f'testing accuaracy: {xgbc.score(X_test,y_test)}')"
   ]
  },
  {
   "cell_type": "markdown",
   "metadata": {},
   "source": [
    "Finally, let's try the NaiveBayesClassifer."
   ]
  },
  {
   "cell_type": "code",
   "execution_count": 21,
   "metadata": {},
   "outputs": [
    {
     "name": "stdout",
     "output_type": "stream",
     "text": [
      "0.5723660058737151\n",
      "[[7477 3337]\n",
      " [5982 4996]]\n",
      "====================\n",
      "0.5482745961820852\n",
      "[[9101 1713]\n",
      " [8131 2847]]\n"
     ]
    }
   ],
   "source": [
    "# ====================================================================\n",
    "# Naive Bayesian Classifer: 0.54 accuracy on test set\n",
    "# ====================================================================\n",
    "\n",
    "# Fitting Model: Guassian\n",
    "naive_bayes = GaussianNB()\n",
    "naive_bayes.fit(X_train , y_train)\n",
    "\n",
    "# Predict on test data\n",
    "nb_preds = naive_bayes.predict(X_test)\n",
    "\n",
    "# Test set performance: 0.7527\n",
    "print(accuracy_score(y_test, nb_preds))\n",
    "print(confusion_matrix(y_test, nb_preds))\n",
    "\n",
    "print(\"====================\")\n",
    "\n",
    "# Fitting Model: Bernouli\n",
    "naive_bayes = BernoulliNB()\n",
    "naive_bayes.fit(X_train , y_train)\n",
    "\n",
    "\n",
    "# Predict on test data\n",
    "nb_preds = naive_bayes.predict(X_test)\n",
    "\n",
    "# Test set performance: 0.7648\n",
    "print(accuracy_score(y_test, nb_preds))\n",
    "print(confusion_matrix(y_test, nb_preds))"
   ]
  },
  {
   "cell_type": "code",
   "execution_count": 22,
   "metadata": {},
   "outputs": [
    {
     "name": "stdout",
     "output_type": "stream",
     "text": [
      "training accuaracy: 0.5459515802308887\n",
      "testing accuaracy: 0.5482745961820852\n"
     ]
    }
   ],
   "source": [
    "print(f'training accuaracy: {naive_bayes.score(X_train,y_train)}')\n",
    "print(f'testing accuaracy: {naive_bayes.score(X_test,y_test)}')"
   ]
  },
  {
   "cell_type": "markdown",
   "metadata": {},
   "source": [
    "<b>Conclusion:</b> As we can see, the NaiveBayesClassifier did not perform as well as the other classifiers and XGBoostClassifier seems to have achieved the highest accuracy score of 0.93 and hence can be used in the finance industry for identifying loan defaulters along with the identified set of features."
   ]
  },
  {
   "cell_type": "code",
   "execution_count": null,
   "metadata": {},
   "outputs": [],
   "source": []
  }
 ],
 "metadata": {
  "kernelspec": {
   "display_name": "Python 3",
   "language": "python",
   "name": "python3"
  },
  "language_info": {
   "codemirror_mode": {
    "name": "ipython",
    "version": 3
   },
   "file_extension": ".py",
   "mimetype": "text/x-python",
   "name": "python",
   "nbconvert_exporter": "python",
   "pygments_lexer": "ipython3",
   "version": "3.8.3"
  }
 },
 "nbformat": 4,
 "nbformat_minor": 4
}
